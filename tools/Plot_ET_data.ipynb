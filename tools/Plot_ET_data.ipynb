{
 "cells": [
  {
   "cell_type": "code",
   "execution_count": 1,
   "metadata": {},
   "outputs": [],
   "source": [
    "# ================================================================================================================\n",
    "#\n",
    "#  In this notebook we show the basic steps for reading in (split) HDF5 data output from the Einstein Toolkit\n",
    "#\n",
    "#      note: this works for runs on ONE PROCESSOR -- the way the ET stores HDF5 data when using multiple processors \n",
    "#            is (in my experience, yours may be different!) not straightforward to read-in in Python\n",
    "#            and we have had to develop our own tools for this. This notebook is demonstrative.\n",
    "#\n",
    "#    Author: Hayley Macpherson (27/08/2020)\n",
    "#            hayleyjmacpherson@gmail.com\n",
    "#\n",
    "# ================================================================================================================"
   ]
  },
  {
   "cell_type": "code",
   "execution_count": null,
   "metadata": {},
   "outputs": [],
   "source": [
    "import numpy as np\n",
    "import matplotlib.pyplot as plt\n",
    "from matplotlib import gridspec\n",
    "import h5py\n",
    "from matplotlib.ticker import FormatStrFormatter"
   ]
  },
  {
   "cell_type": "code",
   "execution_count": null,
   "metadata": {},
   "outputs": [],
   "source": [
    "# Specify where the data is located\n",
    "dpath = './'"
   ]
  },
  {
   "cell_type": "code",
   "execution_count": null,
   "metadata": {},
   "outputs": [],
   "source": [
    "# ----------------------------------------------\n",
    "# Set some parameters specific to the simulation\n",
    "# ----------------------------------------------\n",
    "resol   = 32               # Resolution of the grid itself\n",
    "nghosts = 6                # Number of ghost cells in each dimension\n",
    "res     = resol + nghosts  # Resolution of total grid\n",
    "\n",
    "dtfac  = 0.5               # Courant factor, ratio of dx to dt\n",
    "boxL   = 1000.0            # Length of the box (in Mpc/h)\n",
    "dx     = boxL / res        # Grid spacing\n",
    "dt     = dtfac * dx        # Time step\n",
    "\n",
    "its   = np.array([0,2,4,6,8,10]) # Iterations our snapshots are at\n",
    "times = its * dt                 # Corresponding simulation time\n",
    "\n",
    "fbase = \"FLRW_powerspectrum_it\"  # Base name of the HDF5 output files"
   ]
  },
  {
   "cell_type": "code",
   "execution_count": null,
   "metadata": {},
   "outputs": [],
   "source": [
    "# ------------------------------------------\n",
    "# Get the data and store it in a numpy array\n",
    "# ------------------------------------------\n",
    "\n",
    "# First, use a test file to count variables to allocate data space\n",
    "fname     = dpath + fbase + f'{0:06d}.hdf5'\n",
    "file      = h5py.File(fname, 'r')\n",
    "keynames  = list(file.keys())[:-1]   # Cut out Parameters & Global Attributes at end\n",
    "ndats     = len(keynames)            # Number of variables we have\n",
    "nsteps    = len(its)                 # Number of time steps\n",
    "file.close()\n",
    "print(f'We have {ndats} variables, and {nsteps} time steps ')\n",
    "    \n",
    "# Get the data for all iterations and variables\n",
    "print(\"\")\n",
    "print(\"Getting data ... \")\n",
    "print(\"\")\n",
    "data = np.zeros([len(its),ndats,res,res,res])\n",
    "for i,it in enumerate(its):\n",
    "    fname = dpath + fbase + f'{it:06d}.hdf5'\n",
    "    file  = h5py.File(fname, 'r')\n",
    "    print(f\"it = {it}, file = {fname}\")\n",
    "    keylist = list(file.keys())[:-1]\n",
    "    for j,key in enumerate(keylist):\n",
    "        print(f\"    getting {key}\")\n",
    "        data[i,j,:,:,:] = np.array(file[key])\n",
    "    file.close()\n",
    "print(\"Done\")"
   ]
  },
  {
   "cell_type": "code",
   "execution_count": null,
   "metadata": {},
   "outputs": [],
   "source": [
    "# ----------------\n",
    "# Plot some data!\n",
    "# ----------------\n",
    "ti = 0             # Index of time to look at\n",
    "di = 6             # Index of variable to look at\n",
    "try:\n",
    "    print(f\"Plotting {keynames[di]}\")\n",
    "except:\n",
    "    print(f\"ERROR: variable number {di} doesn't exist\")\n",
    "\n",
    "slc = int(res/2)           # Slice to look at in 2D plot\n",
    "plt.figure(figsize=[10,8])\n",
    "im=plt.imshow(data[ti,di,:,:,slc],interpolation='bicubic')\n",
    "plt.colorbar(im);"
   ]
  },
  {
   "cell_type": "code",
   "execution_count": null,
   "metadata": {},
   "outputs": [],
   "source": [
    "#\n",
    "# Plot a 1D look at the data as well\n",
    "#\n",
    "plt.figure(figsize=[10,8])\n",
    "plt.plot(data[ti,di,:,slc,slc]);\n",
    "plt.title(f\"it = {its[ti]}, {keynames[di]}\");"
   ]
  },
  {
   "cell_type": "code",
   "execution_count": null,
   "metadata": {},
   "outputs": [],
   "source": [
    "#\n",
    "# < insert interesting science here >\n",
    "#"
   ]
  }
 ],
 "metadata": {
  "kernelspec": {
   "display_name": "Python 3 (ipykernel)",
   "language": "python",
   "name": "python3"
  },
  "language_info": {
   "codemirror_mode": {
    "name": "ipython",
    "version": 3
   },
   "file_extension": ".py",
   "mimetype": "text/x-python",
   "name": "python",
   "nbconvert_exporter": "python",
   "pygments_lexer": "ipython3",
   "version": "3.9.13"
  }
 },
 "nbformat": 4,
 "nbformat_minor": 4
}
